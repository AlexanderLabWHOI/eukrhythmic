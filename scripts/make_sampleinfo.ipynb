{
 "cells": [
  {
   "cell_type": "code",
   "execution_count": 2,
   "metadata": {},
   "outputs": [],
   "source": [
    "import pandas as pd\n",
    "import os"
   ]
  },
  {
   "cell_type": "markdown",
   "metadata": {},
   "source": [
    "Testing just three initial samples: HN007 (surface - 20m), HN008 (deep chlorophyll max - 120m) and HN004 (mesopelagic - 2,000m)  \n",
    "\n",
    "Headers for metaT file in config = SampleName, SampleID, AssemblyGroup (all three of these are the same for these samples at the moment), and FastqFile (format = HN036_S36_L002_R1_001)"
   ]
  },
  {
   "cell_type": "code",
   "execution_count": 8,
   "metadata": {},
   "outputs": [
    {
     "name": "stdout",
     "output_type": "stream",
     "text": [
      "['HN008_subsampled', 'HN009_subsampled', 'HN016_subsampled', 'HN036_subsampled', 'HN043_subsampled']\n"
     ]
    }
   ],
   "source": [
    "samplelist1 = [\"HN0\" + str(curr) if curr > 10 else \"HN00\" + str(curr) for curr in range(0,45)]\n",
    "possiblefiles = os.listdir(\"/vortexfs1/omics/alexander/data/BATS2019-clio-metaT\")\n",
    "possiblefiles_Stolen = os.listdir(\"/vortexfs1/omics/alexander/ncohen/BATS2019-clio-metaT/22May_stolen/assembled\")\n",
    "possiblefiles = os.listdir(\"../input/testdata\")\n",
    "\n",
    "fastalist = []\n",
    "samplelist = []\n",
    "for s in samplelist1:\n",
    "    matchingfiles = [curr for curr in possiblefiles if s in curr]\n",
    "    if (len(matchingfiles) > 0):\n",
    "        fastalist.append(\"_\".join(matchingfiles[0].split(\"_\")[0:2]))\n",
    "        samplelist.append(s)\n",
    "        \n",
    "print(fastalist)\n",
    "\n",
    "metaT = pd.DataFrame({\"SampleName\": fastalist, \\\n",
    "              \"SampleID\": samplelist, \\\n",
    "              \"AssemblyGroup\": samplelist, \\\n",
    "              \"FastqFile\": fastalist,})"
   ]
  },
  {
   "cell_type": "code",
   "execution_count": 9,
   "metadata": {},
   "outputs": [],
   "source": [
    "metaT.to_csv(path_or_buf = \"../input/sampledata.txt\", index=False, sep = \"\\t\")"
   ]
  },
  {
   "cell_type": "code",
   "execution_count": null,
   "metadata": {},
   "outputs": [],
   "source": []
  }
 ],
 "metadata": {
  "kernelspec": {
   "display_name": "Python 3",
   "language": "python",
   "name": "python3"
  },
  "language_info": {
   "codemirror_mode": {
    "name": "ipython",
    "version": 3
   },
   "file_extension": ".py",
   "mimetype": "text/x-python",
   "name": "python",
   "nbconvert_exporter": "python",
   "pygments_lexer": "ipython3",
   "version": "3.6.9"
  }
 },
 "nbformat": 4,
 "nbformat_minor": 2
}
