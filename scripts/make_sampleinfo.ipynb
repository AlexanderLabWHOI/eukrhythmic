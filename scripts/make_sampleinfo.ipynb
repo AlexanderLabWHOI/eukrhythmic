{
 "cells": [
  {
   "cell_type": "code",
   "execution_count": 2,
   "metadata": {},
   "outputs": [],
   "source": [
    "import pandas as pd\n",
    "import os"
   ]
  },
  {
   "cell_type": "markdown",
   "metadata": {},
   "source": [
    "Testing just three initial samples: HN007 (surface - 20m), HN008 (deep chlorophyll max - 120m) and HN004 (mesopelagic - 2,000m)  \n",
    "\n",
    "Headers for metaT file in config = SampleName, SampleID, AssemblyGroup (all three of these are the same for these samples at the moment), and FastqFile (format = HN036_S36_L002_R1_001)"
   ]
  },
  {
   "cell_type": "code",
   "execution_count": 19,
   "metadata": {},
   "outputs": [
    {
     "name": "stdout",
     "output_type": "stream",
     "text": [
      "['HN004_S4_L002', 'HN007_S7_L002', 'HN008_S8_L002', 'HN009_S9_L002', 'HN012_S12_L002', 'HN013_S13_L002', 'HN014_S14_L002', 'HN019_S19_L002', 'HN022_S22_L002', 'HN023_S23_L002', 'HN024_S24_L002', 'HN025_S25_L002', 'HN027_S27_L002', 'HN029_S29_L002', 'HN030_S30_L002', 'HN031_S31_L002', 'HN033_S33_L002', 'HN034_S34_L002', 'HN035_S35_L002', 'HN036_S36_L002', 'HN040_S40_L002', 'HN043_S43_L002']\n"
     ]
    }
   ],
   "source": [
    "samplelist1 = [\"HN0\" + str(curr) if curr > 10 else \"HN00\" + str(curr) for curr in range(0,45)]\n",
    "possiblefiles = os.listdir(\"/vortexfs1/omics/alexander/data/BATS2019-clio-metaT\")\n",
    "possiblefiles_Stolen = os.listdir(\"/vortexfs1/omics/alexander/ncohen/BATS2019-clio-metaT/22May_stolen/assembled\")\n",
    "fastalist = []\n",
    "samplelist = []\n",
    "for s in samplelist1:\n",
    "    matchingfiles = [curr for curr in possiblefiles if s in curr]\n",
    "    matchingfiles_Stolen = [curr for curr in possiblefiles_Stolen if s in curr]\n",
    "    if (len(matchingfiles) > 0) & (len(matchingfiles_Stolen) == 3):\n",
    "        fastalist.append(matchingfiles[0].split(\"_R\")[0])\n",
    "        samplelist.append(s)\n",
    "        \n",
    "print(fastalist)\n",
    "\n",
    "metaT = metaT = pd.DataFrame({\"SampleName\": samplelist, \\\n",
    "              \"SampleID\": fastalist, \\\n",
    "              \"AssemblyGroup\": samplelist, \\\n",
    "              \"FastqFile\": fastalist,})"
   ]
  },
  {
   "cell_type": "code",
   "execution_count": 20,
   "metadata": {},
   "outputs": [],
   "source": [
    "metaT.to_csv(path_or_buf = \"../input/metaT_cohen.txt\", index=False, sep = \"\\t\")"
   ]
  },
  {
   "cell_type": "code",
   "execution_count": null,
   "metadata": {},
   "outputs": [],
   "source": []
  }
 ],
 "metadata": {
  "kernelspec": {
   "display_name": "Python 3",
   "language": "python",
   "name": "python3"
  },
  "language_info": {
   "codemirror_mode": {
    "name": "ipython",
    "version": 3
   },
   "file_extension": ".py",
   "mimetype": "text/x-python",
   "name": "python",
   "nbconvert_exporter": "python",
   "pygments_lexer": "ipython3",
   "version": "3.6.7"
  }
 },
 "nbformat": 4,
 "nbformat_minor": 2
}
