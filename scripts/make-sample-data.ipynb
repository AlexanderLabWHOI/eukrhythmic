{
 "cells": [
  {
   "cell_type": "markdown",
   "metadata": {},
   "source": [
    "Documentation for how the example data in `input/sampledata/` was generated from the BATS-clio samples."
   ]
  },
  {
   "cell_type": "code",
   "execution_count": 1,
   "metadata": {},
   "outputs": [],
   "source": [
    "import os\n",
    "import pandas as pd\n",
    "import random"
   ]
  },
  {
   "cell_type": "code",
   "execution_count": 8,
   "metadata": {},
   "outputs": [
    {
     "data": {
      "text/plain": [
       "['/vortexfs1/omics/alexander/data/BATS2019-clio-metaT/HN043_S43_L002_R2_001.fastq.gz',\n",
       " '/vortexfs1/omics/alexander/data/BATS2019-clio-metaT/HN043_S43_L002_R1_001.fastq.gz',\n",
       " '/vortexfs1/omics/alexander/data/BATS2019-clio-metaT/HN032_S32_L002_R1_001.fastq.gz',\n",
       " '/vortexfs1/omics/alexander/data/BATS2019-clio-metaT/HN032_S32_L002_R2_001.fastq.gz',\n",
       " '/vortexfs1/omics/alexander/data/BATS2019-clio-metaT/HN022_S22_L002_R1_001.fastq.gz',\n",
       " '/vortexfs1/omics/alexander/data/BATS2019-clio-metaT/HN022_S22_L002_R2_001.fastq.gz',\n",
       " '/vortexfs1/omics/alexander/data/BATS2019-clio-metaT/HN019_S19_L002_R2_001.fastq.gz',\n",
       " '/vortexfs1/omics/alexander/data/BATS2019-clio-metaT/HN019_S19_L002_R1_001.fastq.gz',\n",
       " '/vortexfs1/omics/alexander/data/BATS2019-clio-metaT/HN016_S16_L002_R2_001.fastq.gz',\n",
       " '/vortexfs1/omics/alexander/data/BATS2019-clio-metaT/HN016_S16_L002_R1_001.fastq.gz']"
      ]
     },
     "execution_count": 8,
     "metadata": {},
     "output_type": "execute_result"
    }
   ],
   "source": [
    "sampledirectory = os.path.join(\"/\", \"vortexfs1\", \"omics\", \"alexander\", \"data\", \"BATS2019-clio-metaT\")\n",
    "samplefiles = [curr for curr in os.listdir(sampledirectory) if \".fastq.gz\" in curr]\n",
    "samplefilesall = [os.path.join(\"/\", \"vortexfs1\", \"omics\", \"alexander\", \"data\", \"BATS2019-clio-metaT\", curr) \\\n",
    "               for curr in samplefiles]\n",
    "sampled = random.sample(samplefiles, 5)\n",
    "samplefiles = [os.path.join(\"/\", \"vortexfs1\", \"omics\", \"alexander\", \"data\", \"BATS2019-clio-metaT\", curr) \\\n",
    "               for curr in sampled]\n",
    "\n",
    "allsamplefiles = []\n",
    "sampled = []\n",
    "for s in samplefiles:\n",
    "    splitintermed = s.split(\"_\")[0].split(\"/\")\n",
    "    sampled.extend([splitintermed[len(splitintermed) - 1]]* 2)\n",
    "    allfiles = [file for file in samplefilesall if s.split(\"_\")[0] in file]\n",
    "    allsamplefiles.extend(allfiles)\n",
    "allsamplefiles\n",
    "#sampled"
   ]
  },
  {
   "cell_type": "code",
   "execution_count": 11,
   "metadata": {},
   "outputs": [],
   "source": [
    "for s in range(0,len(allsamplefiles)):\n",
    "    sampname = sampled[s].split(\"_\")[0]\n",
    "    ext = allsamplefiles[s].split(\"_R\")[1].split(\"_\")[0]\n",
    "    newpath = os.path.join(\"..\", \"input\", \"testdata\", sampname + \"_subsampled_\" + ext + \".fastq.gz\")\n",
    "    os.system(\"reformat.sh in=\" + allsamplefiles[s] + \" out=\" + newpath + \" samplerate=0.0001 overwrite=true\")"
   ]
  },
  {
   "cell_type": "markdown",
   "metadata": {},
   "source": [
    "If this script is re-run, you will need to recreate the default `sampledata.txt` file as well."
   ]
  }
 ],
 "metadata": {
  "kernelspec": {
   "display_name": "Python 3",
   "language": "python",
   "name": "python3"
  },
  "language_info": {
   "codemirror_mode": {
    "name": "ipython",
    "version": 3
   },
   "file_extension": ".py",
   "mimetype": "text/x-python",
   "name": "python",
   "nbconvert_exporter": "python",
   "pygments_lexer": "ipython3",
   "version": "3.6.9"
  }
 },
 "nbformat": 4,
 "nbformat_minor": 2
}
