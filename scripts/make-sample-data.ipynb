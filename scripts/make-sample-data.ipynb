{
 "cells": [
  {
   "cell_type": "markdown",
   "metadata": {},
   "source": [
    "Documentation for how the example data in `input/sampledata/` was generated from the BATS-clio samples."
   ]
  },
  {
   "cell_type": "code",
   "execution_count": 1,
   "metadata": {},
   "outputs": [],
   "source": [
    "import os\n",
    "import pandas as pd\n",
    "import random"
   ]
  },
  {
   "cell_type": "code",
   "execution_count": 2,
   "metadata": {},
   "outputs": [
    {
     "data": {
      "text/plain": [
       "['/vortexfs1/omics/alexander/data/BATS2019-clio-metaT/HN005_S5_L002_R2_001.fastq.gz',\n",
       " '/vortexfs1/omics/alexander/data/BATS2019-clio-metaT/HN018_S18_L002_R1_001.fastq.gz',\n",
       " '/vortexfs1/omics/alexander/data/BATS2019-clio-metaT/HN012_S12_L002_R1_001.fastq.gz',\n",
       " '/vortexfs1/omics/alexander/data/BATS2019-clio-metaT/HN023_S23_L002_R1_001.fastq.gz',\n",
       " '/vortexfs1/omics/alexander/data/BATS2019-clio-metaT/HN019_S19_L002_R1_001.fastq.gz']"
      ]
     },
     "execution_count": 2,
     "metadata": {},
     "output_type": "execute_result"
    }
   ],
   "source": [
    "sampledirectory = os.path.join(\"/\", \"vortexfs1\", \"omics\", \"alexander\", \"data\", \"BATS2019-clio-metaT\")\n",
    "samplefiles = [curr for curr in os.listdir(sampledirectory) if \".fastq.gz\" in curr]\n",
    "sampled = random.sample(samplefiles, 5)\n",
    "samplefiles = [os.path.join(\"/\", \"vortexfs1\", \"omics\", \"alexander\", \"data\", \"BATS2019-clio-metaT\", curr) \\\n",
    "               for curr in random.sample(samplefiles, 5)]\n",
    "samplefiles"
   ]
  },
  {
   "cell_type": "code",
   "execution_count": 3,
   "metadata": {},
   "outputs": [],
   "source": [
    "for s in range(0,len(samplefiles)):\n",
    "    sampname = sampled[s].split(\"_\")[0]\n",
    "    newpath = os.path.join(\"..\", \"input\", \"testdata\", sampname + \"_subsampled.fastq.gz\")\n",
    "    os.system(\"reformat.sh in=\" + samplefiles[s] + \" out=\" + newpath + \" samplerate=0.0001 overwrite=false\")"
   ]
  },
  {
   "cell_type": "markdown",
   "metadata": {},
   "source": [
    "If this script is re-run, you will need to recreate the default `sampledata.txt` file as well."
   ]
  }
 ],
 "metadata": {
  "kernelspec": {
   "display_name": "Python 3",
   "language": "python",
   "name": "python3"
  },
  "language_info": {
   "codemirror_mode": {
    "name": "ipython",
    "version": 3
   },
   "file_extension": ".py",
   "mimetype": "text/x-python",
   "name": "python",
   "nbconvert_exporter": "python",
   "pygments_lexer": "ipython3",
   "version": "3.6.9"
  }
 },
 "nbformat": 4,
 "nbformat_minor": 2
}
