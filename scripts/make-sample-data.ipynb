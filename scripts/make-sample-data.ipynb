{
 "cells": [
  {
   "cell_type": "markdown",
   "metadata": {},
   "source": [
    "Documentation for how the example data in `input/sampledata/` was generated from the BATS-clio samples."
   ]
  },
  {
   "cell_type": "code",
   "execution_count": 1,
   "metadata": {},
   "outputs": [],
   "source": [
    "import os\n",
    "import pandas as pd\n",
    "import random"
   ]
  },
  {
   "cell_type": "code",
   "execution_count": 5,
   "metadata": {},
   "outputs": [
    {
     "data": {
      "text/plain": [
       "['/vortexfs1/omics/alexander/data/narragansett/SRR1810799_2.fastq.gz',\n",
       " '/vortexfs1/omics/alexander/data/narragansett/SRR1810799_1.fastq.gz',\n",
       " '/vortexfs1/omics/alexander/data/narragansett/SRR1810210_2.fastq.gz',\n",
       " '/vortexfs1/omics/alexander/data/narragansett/SRR1810210_1.fastq.gz',\n",
       " '/vortexfs1/omics/alexander/data/narragansett/SRR1945044_1.fastq.gz',\n",
       " '/vortexfs1/omics/alexander/data/narragansett/SRR1945044_2.fastq.gz',\n",
       " '/vortexfs1/omics/alexander/data/narragansett/SRR1945044_1.fastq.gz',\n",
       " '/vortexfs1/omics/alexander/data/narragansett/SRR1945044_2.fastq.gz',\n",
       " '/vortexfs1/omics/alexander/data/narragansett/SRR1810211_2.fastq.gz',\n",
       " '/vortexfs1/omics/alexander/data/narragansett/SRR1810211_1.fastq.gz',\n",
       " '/vortexfs1/omics/alexander/data/narragansett/SRR1945045_1.fastq.gz',\n",
       " '/vortexfs1/omics/alexander/data/narragansett/SRR1945045_2.fastq.gz',\n",
       " '/vortexfs1/omics/alexander/data/narragansett/SRR1810204_1.fastq.gz',\n",
       " '/vortexfs1/omics/alexander/data/narragansett/SRR1810204_2.fastq.gz',\n",
       " '/vortexfs1/omics/alexander/data/narragansett/SRR1810208_2.fastq.gz',\n",
       " '/vortexfs1/omics/alexander/data/narragansett/SRR1810208_1.fastq.gz',\n",
       " '/vortexfs1/omics/alexander/data/narragansett/SRR1810206_2.fastq.gz',\n",
       " '/vortexfs1/omics/alexander/data/narragansett/SRR1810206_1.fastq.gz',\n",
       " '/vortexfs1/omics/alexander/data/narragansett/SRR1810207_1.fastq.gz',\n",
       " '/vortexfs1/omics/alexander/data/narragansett/SRR1810207_2.fastq.gz',\n",
       " '/vortexfs1/omics/alexander/data/narragansett/SRR1810204_1.fastq.gz',\n",
       " '/vortexfs1/omics/alexander/data/narragansett/SRR1810204_2.fastq.gz',\n",
       " '/vortexfs1/omics/alexander/data/narragansett/SRR1810801_2.fastq.gz',\n",
       " '/vortexfs1/omics/alexander/data/narragansett/SRR1810801_1.fastq.gz',\n",
       " '/vortexfs1/omics/alexander/data/narragansett/SRR1810205_2.fastq.gz',\n",
       " '/vortexfs1/omics/alexander/data/narragansett/SRR1810205_1.fastq.gz',\n",
       " '/vortexfs1/omics/alexander/data/narragansett/SRR1945046_1.fastq.gz',\n",
       " '/vortexfs1/omics/alexander/data/narragansett/SRR1945046_2.fastq.gz',\n",
       " '/vortexfs1/omics/alexander/data/narragansett/SRR1810209_1.fastq.gz',\n",
       " '/vortexfs1/omics/alexander/data/narragansett/SRR1810209_2.fastq.gz',\n",
       " '/vortexfs1/omics/alexander/data/narragansett/SRR1810207_1.fastq.gz',\n",
       " '/vortexfs1/omics/alexander/data/narragansett/SRR1810207_2.fastq.gz',\n",
       " '/vortexfs1/omics/alexander/data/narragansett/SRR1810205_2.fastq.gz',\n",
       " '/vortexfs1/omics/alexander/data/narragansett/SRR1810205_1.fastq.gz',\n",
       " '/vortexfs1/omics/alexander/data/narragansett/SRR1810801_2.fastq.gz',\n",
       " '/vortexfs1/omics/alexander/data/narragansett/SRR1810801_1.fastq.gz',\n",
       " '/vortexfs1/omics/alexander/data/narragansett/SRR1810799_2.fastq.gz',\n",
       " '/vortexfs1/omics/alexander/data/narragansett/SRR1810799_1.fastq.gz',\n",
       " '/vortexfs1/omics/alexander/data/narragansett/SRR1810206_2.fastq.gz',\n",
       " '/vortexfs1/omics/alexander/data/narragansett/SRR1810206_1.fastq.gz',\n",
       " '/vortexfs1/omics/alexander/data/narragansett/SRR1810211_2.fastq.gz',\n",
       " '/vortexfs1/omics/alexander/data/narragansett/SRR1810211_1.fastq.gz',\n",
       " '/vortexfs1/omics/alexander/data/narragansett/SRR1945046_1.fastq.gz',\n",
       " '/vortexfs1/omics/alexander/data/narragansett/SRR1945046_2.fastq.gz',\n",
       " '/vortexfs1/omics/alexander/data/narragansett/SRR1810208_2.fastq.gz',\n",
       " '/vortexfs1/omics/alexander/data/narragansett/SRR1810208_1.fastq.gz',\n",
       " '/vortexfs1/omics/alexander/data/narragansett/SRR1810209_1.fastq.gz',\n",
       " '/vortexfs1/omics/alexander/data/narragansett/SRR1810209_2.fastq.gz',\n",
       " '/vortexfs1/omics/alexander/data/narragansett/SRR1945045_1.fastq.gz',\n",
       " '/vortexfs1/omics/alexander/data/narragansett/SRR1945045_2.fastq.gz',\n",
       " '/vortexfs1/omics/alexander/data/narragansett/SRR1810210_2.fastq.gz',\n",
       " '/vortexfs1/omics/alexander/data/narragansett/SRR1810210_1.fastq.gz']"
      ]
     },
     "execution_count": 5,
     "metadata": {},
     "output_type": "execute_result"
    }
   ],
   "source": [
    "sample_fold = \"TARA/PRJEB6605\"#\"BATS2019-clio-metaT\"\n",
    "sampledirectory = os.path.join(\"/\", \"vortexfs1\", \"omics\", \"alexander\", \"data\", sample_fold)#\"BATS2019-clio-metaT\")\n",
    "samplefiles = [curr for curr in os.listdir(sampledirectory) if \".fastq.gz\" in curr]\n",
    "samplefilesall = [os.path.join(\"/\", \"vortexfs1\", \"omics\", \"alexander\", \"data\", sample_fold, curr) \\\n",
    "               for curr in samplefiles]\n",
    "sampled = samplefiles #random.sample(samplefiles, 5)\n",
    "samplefiles = [os.path.join(\"/\", \"vortexfs1\", \"omics\", \"alexander\", \"data\", sample_fold, curr) \\\n",
    "               for curr in sampled]\n",
    "\n",
    "allsamplefiles = []\n",
    "sampled = []\n",
    "for s in samplefiles:\n",
    "    splitintermed = s.split(\"_\")[0].split(\"/\")\n",
    "    sampled.extend([splitintermed[len(splitintermed) - 1]]* 2)\n",
    "    allfiles = [file for file in samplefilesall if s.split(\"_\")[0] in file]\n",
    "    allsamplefiles.extend(allfiles)\n",
    "allsamplefiles\n",
    "#sampled"
   ]
  },
  {
   "cell_type": "code",
   "execution_count": 3,
   "metadata": {},
   "outputs": [
    {
     "name": "stdout",
     "output_type": "stream",
     "text": [
      "/vortexfs1/omics/alexander/data/BATS2019-clio-metaT/HN036_S36_L002_R#_001.fastq.gz\n",
      "/vortexfs1/omics/alexander/data/BATS2019-clio-metaT/HN009_S9_L002_R#_001.fastq.gz\n",
      "/vortexfs1/omics/alexander/data/BATS2019-clio-metaT/HN043_S43_L002_R#_001.fastq.gz\n",
      "/vortexfs1/omics/alexander/data/BATS2019-clio-metaT/HN008_S8_L002_R#_001.fastq.gz\n",
      "/vortexfs1/omics/alexander/data/BATS2019-clio-metaT/HN016_S16_L002_R#_001.fastq.gz\n"
     ]
    }
   ],
   "source": [
    "already_sampled = []\n",
    "for s in range(0,len(allsamplefiles)):\n",
    "    sampname = sampled[s].split(\"_\")[0]\n",
    "    if sampname in already_sampled:\n",
    "        continue\n",
    "    ext = allsamplefiles[s].split(\"_R\")[1].split(\"_\")[1]\n",
    "    filename = allsamplefiles[s].split(\"_R\")[0]\n",
    "    print(filename + \"_R#_\" + ext)\n",
    "    newpath1 = os.path.join(\"..\", \"input\", \"testdata\", sampname + \"_subsampled_\" + str(1) + \".fastq.gz\")\n",
    "    newpath2 = os.path.join(\"..\", \"input\", \"testdata\", sampname + \"_subsampled_\" + str(2) + \".fastq.gz\")\n",
    "    os.system(\"reformat.sh in=\" + filename + \"_R#_\" + ext + \" out1=\" + newpath1 + \\\n",
    "              \" out2=\" + newpath2 + \\\n",
    "              \" samplerate=0.0005 overwrite=true\")\n",
    "    already_sampled.append(sampname)"
   ]
  },
  {
   "cell_type": "markdown",
   "metadata": {},
   "source": [
    "If this script is re-run, you will need to recreate the default `sampledata.txt` file as well."
   ]
  }
 ],
 "metadata": {
  "kernelspec": {
   "display_name": "Python 3",
   "language": "python",
   "name": "python3"
  },
  "language_info": {
   "codemirror_mode": {
    "name": "ipython",
    "version": 3
   },
   "file_extension": ".py",
   "mimetype": "text/x-python",
   "name": "python",
   "nbconvert_exporter": "python",
   "pygments_lexer": "ipython3",
   "version": "3.6.9"
  }
 },
 "nbformat": 4,
 "nbformat_minor": 2
}
