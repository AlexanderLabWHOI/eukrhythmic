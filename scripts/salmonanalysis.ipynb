{
 "cells": [
  {
   "cell_type": "code",
   "execution_count": 4,
   "metadata": {},
   "outputs": [],
   "source": [
    "library(ggplot2)\n",
    "library(dplyr)\n",
    "library(reshape2)\n",
    "library(yaml)"
   ]
  },
  {
   "cell_type": "code",
   "execution_count": 2,
   "metadata": {},
   "outputs": [
    {
     "ename": "ERROR",
     "evalue": "Error in read_yaml(\"../config.yaml\", fileEncoding = \"UTF-8\"): could not find function \"read_yaml\"\n",
     "output_type": "error",
     "traceback": [
      "Error in read_yaml(\"../config.yaml\", fileEncoding = \"UTF-8\"): could not find function \"read_yaml\"\nTraceback:\n",
      "1. file.path(getwd(), \"..\", read_yaml(\"../config.yaml\", fileEncoding = \"UTF-8\")$outputDIR)"
     ]
    }
   ],
   "source": [
    "outputdir = file.path(getwd(), \"..\", read_yaml(\"../config.yaml\", fileEncoding = \"UTF-8\")$outputDIR)"
   ]
  },
  {
   "cell_type": "code",
   "execution_count": 11,
   "metadata": {},
   "outputs": [
    {
     "data": {
      "text/html": [
       "<ol class=list-inline>\n",
       "\t<li>'assembled'</li>\n",
       "\t<li>'bbmap'</li>\n",
       "\t<li>'cluster1'</li>\n",
       "\t<li>'cluster2'</li>\n",
       "\t<li>'emptydir'</li>\n",
       "\t<li>'fastqc'</li>\n",
       "\t<li>'firsttrim'</li>\n",
       "\t<li>'jellyfish'</li>\n",
       "\t<li>'megahit'</li>\n",
       "\t<li>'merged'</li>\n",
       "\t<li>'merged_all'</li>\n",
       "\t<li>'qc'</li>\n",
       "\t<li>'quast'</li>\n",
       "\t<li>'renamed'</li>\n",
       "\t<li>'salmon_indiv'</li>\n",
       "\t<li>'transdecoder_indiv'</li>\n",
       "\t<li>'velvet'</li>\n",
       "</ol>\n"
      ],
      "text/latex": [
       "\\begin{enumerate*}\n",
       "\\item 'assembled'\n",
       "\\item 'bbmap'\n",
       "\\item 'cluster1'\n",
       "\\item 'cluster2'\n",
       "\\item 'emptydir'\n",
       "\\item 'fastqc'\n",
       "\\item 'firsttrim'\n",
       "\\item 'jellyfish'\n",
       "\\item 'megahit'\n",
       "\\item 'merged'\n",
       "\\item 'merged\\_all'\n",
       "\\item 'qc'\n",
       "\\item 'quast'\n",
       "\\item 'renamed'\n",
       "\\item 'salmon\\_indiv'\n",
       "\\item 'transdecoder\\_indiv'\n",
       "\\item 'velvet'\n",
       "\\end{enumerate*}\n"
      ],
      "text/markdown": [
       "1. 'assembled'\n",
       "2. 'bbmap'\n",
       "3. 'cluster1'\n",
       "4. 'cluster2'\n",
       "5. 'emptydir'\n",
       "6. 'fastqc'\n",
       "7. 'firsttrim'\n",
       "8. 'jellyfish'\n",
       "9. 'megahit'\n",
       "10. 'merged'\n",
       "11. 'merged_all'\n",
       "12. 'qc'\n",
       "13. 'quast'\n",
       "14. 'renamed'\n",
       "15. 'salmon_indiv'\n",
       "16. 'transdecoder_indiv'\n",
       "17. 'velvet'\n",
       "\n",
       "\n"
      ],
      "text/plain": [
       " [1] \"assembled\"          \"bbmap\"              \"cluster1\"          \n",
       " [4] \"cluster2\"           \"emptydir\"           \"fastqc\"            \n",
       " [7] \"firsttrim\"          \"jellyfish\"          \"megahit\"           \n",
       "[10] \"merged\"             \"merged_all\"         \"qc\"                \n",
       "[13] \"quast\"              \"renamed\"            \"salmon_indiv\"      \n",
       "[16] \"transdecoder_indiv\" \"velvet\"            "
      ]
     },
     "metadata": {},
     "output_type": "display_data"
    }
   ],
   "source": [
    "list.files(outputdir)"
   ]
  },
  {
   "cell_type": "code",
   "execution_count": 17,
   "metadata": {},
   "outputs": [],
   "source": [
    "indiv_salmon = file.path(outputdir, \"salmon_indiv\", \"salmon_quant_assembly*\", \"aux_info\", \"meta_info.json\")\n",
    "system(paste0('grep --with-filename percent_mapped /', indiv_salmon, \" > indiv_salmon.txt\"))"
   ]
  },
  {
   "cell_type": "code",
   "execution_count": 45,
   "metadata": {},
   "outputs": [
    {
     "data": {
      "text/html": [
       "<table>\n",
       "<thead><tr><th scope=col>Path</th><th scope=col>Metric</th><th scope=col>Value</th></tr></thead>\n",
       "<tbody>\n",
       "\t<tr><td>salmon_quant_assembly_SH254ad_megahit</td><td>    percent_mapped                   </td><td>37.66273                             </td></tr>\n",
       "\t<tr><td>salmon_quant_assembly_SH402_megahit  </td><td>    percent_mapped                   </td><td>60.28657                             </td></tr>\n",
       "\t<tr><td>salmon_quant_assembly_SH402_trinity  </td><td>    percent_mapped                   </td><td>80.90828                             </td></tr>\n",
       "\t<tr><td>salmon_quant_assembly_SH487_megahit  </td><td>    percent_mapped                   </td><td>54.14374                             </td></tr>\n",
       "\t<tr><td>salmon_quant_assembly_SH487_trinity  </td><td>    percent_mapped                   </td><td>78.23583                             </td></tr>\n",
       "\t<tr><td>salmon_quant_assembly_SH488_megahit  </td><td>    percent_mapped                   </td><td>59.43987                             </td></tr>\n",
       "\t<tr><td>salmon_quant_assembly_SH488_trinity  </td><td>    percent_mapped                   </td><td>80.54100                             </td></tr>\n",
       "\t<tr><td>salmon_quant_assembly_SH489_megahit  </td><td>    percent_mapped                   </td><td>53.00759                             </td></tr>\n",
       "\t<tr><td>salmon_quant_assembly_SH489_trinity  </td><td>    percent_mapped                   </td><td>76.29318                             </td></tr>\n",
       "\t<tr><td>salmon_quant_assembly_SH490_megahit  </td><td>    percent_mapped                   </td><td>57.87896                             </td></tr>\n",
       "\t<tr><td>salmon_quant_assembly_SH490_trinity  </td><td>    percent_mapped                   </td><td>78.55997                             </td></tr>\n",
       "\t<tr><td>salmon_quant_assembly_SH491_megahit  </td><td>    percent_mapped                   </td><td>55.00563                             </td></tr>\n",
       "\t<tr><td>salmon_quant_assembly_SH491_trinity  </td><td>    percent_mapped                   </td><td>74.90980                             </td></tr>\n",
       "\t<tr><td>salmon_quant_assembly_SH492_megahit  </td><td>    percent_mapped                   </td><td>48.15710                             </td></tr>\n",
       "\t<tr><td>salmon_quant_assembly_SH492_trinity  </td><td>    percent_mapped                   </td><td>71.14753                             </td></tr>\n",
       "\t<tr><td>salmon_quant_assembly_SH493_megahit  </td><td>    percent_mapped                   </td><td>49.90018                             </td></tr>\n",
       "\t<tr><td>salmon_quant_assembly_SH493_trinity  </td><td>    percent_mapped                   </td><td>73.24528                             </td></tr>\n",
       "</tbody>\n",
       "</table>\n"
      ],
      "text/latex": [
       "\\begin{tabular}{r|lll}\n",
       " Path & Metric & Value\\\\\n",
       "\\hline\n",
       "\t salmon\\_quant\\_assembly\\_SH254ad\\_megahit &     percent\\_mapped                          & 37.66273                                     \\\\\n",
       "\t salmon\\_quant\\_assembly\\_SH402\\_megahit   &     percent\\_mapped                          & 60.28657                                     \\\\\n",
       "\t salmon\\_quant\\_assembly\\_SH402\\_trinity   &     percent\\_mapped                          & 80.90828                                     \\\\\n",
       "\t salmon\\_quant\\_assembly\\_SH487\\_megahit   &     percent\\_mapped                          & 54.14374                                     \\\\\n",
       "\t salmon\\_quant\\_assembly\\_SH487\\_trinity   &     percent\\_mapped                          & 78.23583                                     \\\\\n",
       "\t salmon\\_quant\\_assembly\\_SH488\\_megahit   &     percent\\_mapped                          & 59.43987                                     \\\\\n",
       "\t salmon\\_quant\\_assembly\\_SH488\\_trinity   &     percent\\_mapped                          & 80.54100                                     \\\\\n",
       "\t salmon\\_quant\\_assembly\\_SH489\\_megahit   &     percent\\_mapped                          & 53.00759                                     \\\\\n",
       "\t salmon\\_quant\\_assembly\\_SH489\\_trinity   &     percent\\_mapped                          & 76.29318                                     \\\\\n",
       "\t salmon\\_quant\\_assembly\\_SH490\\_megahit   &     percent\\_mapped                          & 57.87896                                     \\\\\n",
       "\t salmon\\_quant\\_assembly\\_SH490\\_trinity   &     percent\\_mapped                          & 78.55997                                     \\\\\n",
       "\t salmon\\_quant\\_assembly\\_SH491\\_megahit   &     percent\\_mapped                          & 55.00563                                     \\\\\n",
       "\t salmon\\_quant\\_assembly\\_SH491\\_trinity   &     percent\\_mapped                          & 74.90980                                     \\\\\n",
       "\t salmon\\_quant\\_assembly\\_SH492\\_megahit   &     percent\\_mapped                          & 48.15710                                     \\\\\n",
       "\t salmon\\_quant\\_assembly\\_SH492\\_trinity   &     percent\\_mapped                          & 71.14753                                     \\\\\n",
       "\t salmon\\_quant\\_assembly\\_SH493\\_megahit   &     percent\\_mapped                          & 49.90018                                     \\\\\n",
       "\t salmon\\_quant\\_assembly\\_SH493\\_trinity   &     percent\\_mapped                          & 73.24528                                     \\\\\n",
       "\\end{tabular}\n"
      ],
      "text/markdown": [
       "\n",
       "| Path | Metric | Value |\n",
       "|---|---|---|\n",
       "| salmon_quant_assembly_SH254ad_megahit |     percent_mapped                    | 37.66273                              |\n",
       "| salmon_quant_assembly_SH402_megahit   |     percent_mapped                    | 60.28657                              |\n",
       "| salmon_quant_assembly_SH402_trinity   |     percent_mapped                    | 80.90828                              |\n",
       "| salmon_quant_assembly_SH487_megahit   |     percent_mapped                    | 54.14374                              |\n",
       "| salmon_quant_assembly_SH487_trinity   |     percent_mapped                    | 78.23583                              |\n",
       "| salmon_quant_assembly_SH488_megahit   |     percent_mapped                    | 59.43987                              |\n",
       "| salmon_quant_assembly_SH488_trinity   |     percent_mapped                    | 80.54100                              |\n",
       "| salmon_quant_assembly_SH489_megahit   |     percent_mapped                    | 53.00759                              |\n",
       "| salmon_quant_assembly_SH489_trinity   |     percent_mapped                    | 76.29318                              |\n",
       "| salmon_quant_assembly_SH490_megahit   |     percent_mapped                    | 57.87896                              |\n",
       "| salmon_quant_assembly_SH490_trinity   |     percent_mapped                    | 78.55997                              |\n",
       "| salmon_quant_assembly_SH491_megahit   |     percent_mapped                    | 55.00563                              |\n",
       "| salmon_quant_assembly_SH491_trinity   |     percent_mapped                    | 74.90980                              |\n",
       "| salmon_quant_assembly_SH492_megahit   |     percent_mapped                    | 48.15710                              |\n",
       "| salmon_quant_assembly_SH492_trinity   |     percent_mapped                    | 71.14753                              |\n",
       "| salmon_quant_assembly_SH493_megahit   |     percent_mapped                    | 49.90018                              |\n",
       "| salmon_quant_assembly_SH493_trinity   |     percent_mapped                    | 73.24528                              |\n",
       "\n"
      ],
      "text/plain": [
       "   Path                                  Metric             Value   \n",
       "1  salmon_quant_assembly_SH254ad_megahit     percent_mapped 37.66273\n",
       "2  salmon_quant_assembly_SH402_megahit       percent_mapped 60.28657\n",
       "3  salmon_quant_assembly_SH402_trinity       percent_mapped 80.90828\n",
       "4  salmon_quant_assembly_SH487_megahit       percent_mapped 54.14374\n",
       "5  salmon_quant_assembly_SH487_trinity       percent_mapped 78.23583\n",
       "6  salmon_quant_assembly_SH488_megahit       percent_mapped 59.43987\n",
       "7  salmon_quant_assembly_SH488_trinity       percent_mapped 80.54100\n",
       "8  salmon_quant_assembly_SH489_megahit       percent_mapped 53.00759\n",
       "9  salmon_quant_assembly_SH489_trinity       percent_mapped 76.29318\n",
       "10 salmon_quant_assembly_SH490_megahit       percent_mapped 57.87896\n",
       "11 salmon_quant_assembly_SH490_trinity       percent_mapped 78.55997\n",
       "12 salmon_quant_assembly_SH491_megahit       percent_mapped 55.00563\n",
       "13 salmon_quant_assembly_SH491_trinity       percent_mapped 74.90980\n",
       "14 salmon_quant_assembly_SH492_megahit       percent_mapped 48.15710\n",
       "15 salmon_quant_assembly_SH492_trinity       percent_mapped 71.14753\n",
       "16 salmon_quant_assembly_SH493_megahit       percent_mapped 49.90018\n",
       "17 salmon_quant_assembly_SH493_trinity       percent_mapped 73.24528"
      ]
     },
     "metadata": {},
     "output_type": "display_data"
    }
   ],
   "source": [
    "salmon_res = read.csv(\"indiv_salmon.txt\", sep = \":\", header = FALSE, col.names = c(\"Path\",\"Metric\",\"Value\"))\n",
    "salmon_res$Path = as.character(salmon_res$Path)\n",
    "salmon_res$Value = as.numeric(unlist(strsplit(trimws(as.character(salmon_res$Value)),\",\")))\n",
    "for (curr_ind in c(1:length(salmon_res$Path))) {\n",
    "    curr = suppressWarnings(unlist(strsplit(as.character(salmon_res$Path[curr_ind]), \"/\")))\n",
    "    salmon_res$Path[curr_ind] = curr[length(curr)-2]\n",
    "}\n",
    "salmon_res"
   ]
  },
  {
   "cell_type": "code",
   "execution_count": 1,
   "metadata": {},
   "outputs": [
    {
     "ename": "ERROR",
     "evalue": "Error in file.path(outputdir, \"salmon_by_assembly_group\", \"salmon_quant_assembly*\", : object 'outputdir' not found\n",
     "output_type": "error",
     "traceback": [
      "Error in file.path(outputdir, \"salmon_by_assembly_group\", \"salmon_quant_assembly*\", : object 'outputdir' not found\nTraceback:\n",
      "1. file.path(outputdir, \"salmon_by_assembly_group\", \"salmon_quant_assembly*\", \n .     \"aux_info\", \"meta_info.json\")"
     ]
    }
   ],
   "source": [
    "indiv_salmon = file.path(outputdir, \"salmon\", \"salmon_quant_assembly*\", \"aux_info\", \"meta_info.json\")\n",
    "system(paste0('grep --with-filename percent_mapped /', indiv_salmon, \" > indiv_salmon.txt\"))"
   ]
  },
  {
   "cell_type": "code",
   "execution_count": 46,
   "metadata": {},
   "outputs": [
    {
     "ename": "ERROR",
     "evalue": "Error in parse(text = x, srcfile = src): <text>:1:77: unexpected symbol\n1: cdhitdir = file.path(vortexfs1/omics/alexander/ncohen/BATS2019-clio-metaT/20Apr2020\n                                                                                ^\n",
     "output_type": "error",
     "traceback": [
      "Error in parse(text = x, srcfile = src): <text>:1:77: unexpected symbol\n1: cdhitdir = file.path(vortexfs1/omics/alexander/ncohen/BATS2019-clio-metaT/20Apr2020\n                                                                                ^\nTraceback:\n"
     ]
    }
   ],
   "source": [
    "cdhitdir = file.path(outputdir, "
   ]
  },
  {
   "cell_type": "code",
   "execution_count": 47,
   "metadata": {},
   "outputs": [
    {
     "ename": "ERROR",
     "evalue": "Error in parse(text = x, srcfile = src): <text>:2:5: unexpected symbol\n1: ctdict = dict()\n2: for curr\n       ^\n",
     "output_type": "error",
     "traceback": [
      "Error in parse(text = x, srcfile = src): <text>:2:5: unexpected symbol\n1: ctdict = dict()\n2: for curr\n       ^\nTraceback:\n"
     ]
    }
   ],
   "source": [
    "ctdict = dict()\n",
    "for curr in os.listdir(cdhitdir):\n",
    "    resultscurr = pd.DataFrame(columns = [\"Trinity\",\"Velvet\",\"Megahit\",\"TV\",\"TM\",\"VM\",\"TVM\"])\n",
    "    trinct = velvetct = megact = tvtog = tmtog = vmtog = tvmtog = 0\n",
    "    if \"clst\" in curr:\n",
    "        togglecol = pddict[curr][\">Cluster 0\"]\n",
    "        ctr = 0\n",
    "        print(len(togglecol))\n",
    "        for t in togglecol:\n",
    "            if ctr % 5000 == 0:\n",
    "                print(str(trinct) + \" , counter is \" + str(ctr))\n",
    "            ctr = ctr + 1\n",
    "            if \">\" not in str(t):\n",
    "                if (trinct > 0) & (velvetct > 0):\n",
    "                    tvtog = 1\n",
    "                if (trinct > 0) & (megact > 0):\n",
    "                    tmtog = 1\n",
    "                if (velvetct > 0) & (megact > 0):\n",
    "                    vmtog = 1\n",
    "                if (velvetct > 0) & (megact > 0) & (trinct > 0):\n",
    "                    tvmtog = 1\n",
    "                resultscurr = resultscurr.append({'Trinity': trinct, 'Velvet': velvetct, 'Megahit': megact,\\\n",
    "                                   \"TV\": tvtog, \"TM\": tmtog, \"VM\": vmtog, \"TVM\": tvmtog}, ignore_index=True)\n",
    "                trinct = velvetct = megact = tvtog = tmtog = vmtog = tvmtog = 0\n",
    "                continue \n",
    "                \n",
    "            if \"trinity\" in str(t):\n",
    "                trinct = trinct + 1\n",
    "            if \"velvet\" in str(t):\n",
    "                velvetct = velvetct + 1\n",
    "            if \"megahit\" in str(t):\n",
    "                megact = megact + 1\n",
    "        ctdict[curr] = resultscurr"
   ]
  },
  {
   "cell_type": "code",
   "execution_count": null,
   "metadata": {},
   "outputs": [],
   "source": [
    "for curr in ctdict.keys():\n",
    "    print(curr)\n",
    "    ctdict[curr][\"VM\"] = ((ctdict[curr][\"Megahit\"] > 0) & (ctdict[curr][\"Velvet\"] > 0)).astype(int)\n",
    "    ctdict[curr][\"TV\"] = ((ctdict[curr][\"Trinity\"] > 0) & (ctdict[curr][\"Velvet\"] > 0)).astype(int)\n",
    "    ctdict[curr][\"TM\"] = ((ctdict[curr][\"Trinity\"] > 0) & (ctdict[curr][\"Megahit\"] > 0)).astype(int)\n",
    "    ctdict[curr][\"TVM\"] = ((ctdict[curr][\"Trinity\"] > 0) & (ctdict[curr][\"Megahit\"] > 0) & (ctdict[curr][\"Velvet\"] > 0)).astype(int)"
   ]
  }
 ],
 "metadata": {
  "kernelspec": {
   "display_name": "R",
   "language": "R",
   "name": "ir"
  },
  "language_info": {
   "codemirror_mode": "r",
   "file_extension": ".r",
   "mimetype": "text/x-r-source",
   "name": "R",
   "pygments_lexer": "r",
   "version": "3.6.1"
  },
  "latex_envs": {
   "LaTeX_envs_menu_present": true,
   "autoclose": false,
   "autocomplete": true,
   "bibliofile": "biblio.bib",
   "cite_by": "apalike",
   "current_citInitial": 1,
   "eqLabelWithNumbers": true,
   "eqNumInitial": 1,
   "hotkeys": {
    "equation": "Ctrl-E",
    "itemize": "Ctrl-I"
   },
   "labels_anchors": false,
   "latex_user_defs": false,
   "report_style_numbering": false,
   "user_envs_cfg": false
  },
  "toc": {
   "base_numbering": 1,
   "nav_menu": {},
   "number_sections": true,
   "sideBar": true,
   "skip_h1_title": false,
   "title_cell": "Table of Contents",
   "title_sidebar": "Contents",
   "toc_cell": false,
   "toc_position": {},
   "toc_section_display": true,
   "toc_window_display": false
  },
  "varInspector": {
   "cols": {
    "lenName": 16,
    "lenType": 16,
    "lenVar": 40
   },
   "kernels_config": {
    "python": {
     "delete_cmd_postfix": "",
     "delete_cmd_prefix": "del ",
     "library": "var_list.py",
     "varRefreshCmd": "print(var_dic_list())"
    },
    "r": {
     "delete_cmd_postfix": ") ",
     "delete_cmd_prefix": "rm(",
     "library": "var_list.r",
     "varRefreshCmd": "cat(var_dic_list()) "
    }
   },
   "types_to_exclude": [
    "module",
    "function",
    "builtin_function_or_method",
    "instance",
    "_Feature"
   ],
   "window_display": false
  }
 },
 "nbformat": 4,
 "nbformat_minor": 2
}
