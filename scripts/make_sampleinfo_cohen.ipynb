{
 "cells": [
  {
   "cell_type": "code",
   "execution_count": 1,
   "metadata": {},
   "outputs": [],
   "source": [
    "import pandas as pd"
   ]
  },
  {
   "cell_type": "markdown",
   "metadata": {},
   "source": [
    "Testing just three initial samples: HN007 (surface - 20m), HN008 (deep chlorophyll max - 120m) and HN004 (mesopelagic - 2,000m)  \n",
    "\n",
    "Headers for metaT file in config = SampleName, SampleID, AssemblyGroup (all three of these are the same for these samples at the moment), and FastqFile (format = HN036_S36_L002_R1_001)"
   ]
  },
  {
   "cell_type": "code",
   "execution_count": 11,
   "metadata": {},
   "outputs": [],
   "source": [
    "metaT = pd.DataFrame({\"SampleName\": [\"HN007\",\"HN008\",\"HN004\"], \\\n",
    "              \"SampleID\": [\"HN007\",\"HN008\",\"HN004\"], \\\n",
    "              \"AssemblyGroup\": [\"HN007\",\"HN008\",\"HN004\"], \\\n",
    "              \"FastqFile\": [\"HN007_S7_L002\",\"HN008_S8_L002\",\"HN004_S4_L002\"],})"
   ]
  },
  {
   "cell_type": "code",
   "execution_count": 12,
   "metadata": {},
   "outputs": [],
   "source": [
    "metaT.to_csv(path_or_buf = \"../input/metaT_cohen.txt\", index=False, sep = \"\\t\")"
   ]
  },
  {
   "cell_type": "code",
   "execution_count": null,
   "metadata": {},
   "outputs": [],
   "source": []
  }
 ],
 "metadata": {
  "kernelspec": {
   "display_name": "Python 3",
   "language": "python",
   "name": "python3"
  },
  "language_info": {
   "codemirror_mode": {
    "name": "ipython",
    "version": 3
   },
   "file_extension": ".py",
   "mimetype": "text/x-python",
   "name": "python",
   "nbconvert_exporter": "python",
   "pygments_lexer": "ipython3",
   "version": "3.6.9"
  }
 },
 "nbformat": 4,
 "nbformat_minor": 2
}
